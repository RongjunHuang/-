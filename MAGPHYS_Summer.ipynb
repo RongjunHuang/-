{
  "nbformat": 4,
  "nbformat_minor": 0,
  "metadata": {
    "colab": {
      "name": "MAGPHYS Summer.ipynb",
      "provenance": [],
      "collapsed_sections": [
        "w2iOVrWX2XFa",
        "ZXGoFRgfGW5c",
        "lEZdixtB3DN_",
        "MZB8Ts1T3GFP"
      ],
      "authorship_tag": "ABX9TyMFLNmBDbtDkcXBUtKVzcn8",
      "include_colab_link": true
    },
    "kernelspec": {
      "name": "python3",
      "display_name": "Python 3"
    }
  },
  "cells": [
    {
      "cell_type": "markdown",
      "metadata": {
        "id": "view-in-github",
        "colab_type": "text"
      },
      "source": [
        "<a href=\"https://colab.research.google.com/github/RongjunHuang/-/blob/main/MAGPHYS_Summer.ipynb\" target=\"_parent\"><img src=\"https://colab.research.google.com/assets/colab-badge.svg\" alt=\"Open In Colab\"/></a>"
      ]
    },
    {
      "cell_type": "markdown",
      "metadata": {
        "id": "eL4cmJDvTfwp"
      },
      "source": [
        "# MAGPHYS Summer\n"
      ]
    },
    {
      "cell_type": "markdown",
      "metadata": {
        "id": "w2iOVrWX2XFa"
      },
      "source": [
        "## Abstract   \n",
        "<font size=3>  \n",
        "<br> “Main sequence (MS) of Star-Forming Galaxies” is the correlation between the star forming rate (SFR) and stellar mass of “star forming” galaxies. This relationship evolves over cosmic time.  \n",
        "In this project, I use the code “MAGPHYS + photo - z” to build a model of spectral energy distribution (SED) of a large sample of galaxies from $0.3<z<2.1$. This code can solve 2 serious issues in previous studies: photometric redshift & SFR and stellar mass constraints (biases and uncertainty due to adopted treatment of dust attenuation). This is used to characterise the scatter in the MS and to determine the extent to which this scatter can be attributed to measurement uncertainty and/or intrinsic scatter as a function of redshift. Finally, we use this model to examine the scatter of the MS.  \n",
        "\n",
        " "
      ]
    },
    {
      "cell_type": "markdown",
      "metadata": {
        "id": "8vwEGDnR2tB6"
      },
      "source": [
        "## 1. Introduction    \n",
        "<font size=3>     \n",
        "<br> The galaxy MS describes the relationship between the SFR of galaxies and their masses (Caplar & Tacchella, 2019). The galaxy MS is significant for understanding the evolution of galaxies. Due to the long life of the galaxy, only its current life state is observed. However, the change in the MS (stellar mass and SFR) of star forming galaxies with cosmic time provides an indirect way to study galaxy evolution. The width (or scatter) of the MS at a single redshift is thought to reflect the burstiness of the star formation history. Theories suggest that a small MS width (small scatter) is indicative of gradual, continuous star formation histories whereas large MS widths (large scatter) is indicative of more bursty, stochastic star formation histories.   \n",
        "\n",
        "<br> Most of the previous studies fit the galxy SED with a fixed photometric redshift $z_{phot}$ (Caplar and Tacchella, 2019). They treat the $z_{phot}$ as a certain input so that they ignore the uncertainty of the $z_{phot}$. This introduces a systematic underestimation of the uncertainties in all distance-dependent parameters (e.g., $SFR$, $M_*$). The improvement of MAGPHYS+photo-z is to set $z_{phot}$ as an unknow quantity and find its probability distribution. Hence, the uncertainty in the $z_{phot}$ is incorporated into uncertainty in the derived physical properties of the galaxy. This allows us to examine how much of the scatter in the main sequence is driven by measurement uncertainty as opposed to true intrinsic scatter. \n",
        "\n",
        "<br> This paper is organized as follows: Section 2 describes how the MAGPHYS+photo-z works and mathematical principles, Section 3 shows the results...... Throughout this project, the FlatLambdaCDM model is adopted by assuming the Hubble constant is $H_0 = 70km/s /Mpc$, temperature of CMB is $T_{CMB, 0} = 2.725K$ and the mass density of the Universe is $\\Omega_{m,0} = 0.3$. Hence, for the given redshifts $0$, $0.25$, $0.5$, $1$, $2$, and $4$, the corresponding ages of the Universe are t = $13.47Gyr$, $10.53Gyr$, $8.43Gyr$, $5.75Gyr$, $3.23Gyr$, and $1.52Gyr$.\n"
      ]
    },
    {
      "cell_type": "markdown",
      "metadata": {
        "id": "IOAw6eO92vrg"
      },
      "source": [
        "## 2. Method\n"
      ]
    },
    {
      "cell_type": "markdown",
      "metadata": {
        "id": "2FJZ3xaq20S4"
      },
      "source": [
        "### 2.1 Database (COSMOS)    \n",
        "<font size=3>   \n",
        "<br> The database used in MAGPHYS+photo-z comes from two catalogs: COSMOS2020 catalog (Weaver et al. 2020) and COSMOS Super-deblended catalog (Jin et al. 2018). COSMOS2020 catalog contains photometric data for 2 million sources from UV to IR (Weaver et al. 2020) and COSMOS Super-deblended catalog presents photometric data for 194,428 galaxies from far-infrared (FIR) to sub-mm (Jin et al. 2018). We cross-match the galaxies' ID and make some selections from these two catalogs. The galaxies with 3 or more UV-nearIR bands detected at $signal-to-noise>3$ and 3 or more IR-radio bands detected at $signal-to-noise>2$ are collected to get good stellar mass and very accurate SFRs. Additionally, active galactic nuclei (AGN) is excluded by using X-ray detections and IR & radio color cuts because MAGPHYS does not include AGN models and so the derived properties are not accurate for these sources. Eventually, there are 12497 galaxies are selected as our database.\n",
        "\n"
      ]
    },
    {
      "cell_type": "markdown",
      "metadata": {
        "id": "ZXGoFRgfGW5c"
      },
      "source": [
        "### 2.2 MAGPHYS+photo-z       \n",
        "<font size=3>   \n",
        "<br> MAGPHYS+photo-z is the core code of this project. It is a galaxy SED fitting code with a wavelength range from ultraviolet to radio (da Cunha, Charlot and Elbaz, 2008). MAGPHYS+photo-z builds model libraries on different redshifts based on the required filters, and then compares the SED fitting model with the observed data to obtain the likelihood distribution of related physical parameters. Simultaneously, MAGPHYS+photo-z can predict unattenuated SED through the best fitting parameters. There are two sets of libraries used in MAGPHYS+photo-z. The optical model is for the stars and the infrared model is for the dust. These two sets of model libraries maintain the balance of the energy absorbed by dust (via attenuation in UV to near-IR) and the energy re-emitted by dust (via thermal emission in mid-IR to sub-mm).\n",
        "\n",
        "![](https://drive.google.com/uc?export=view&id=1z7XM0dBapA-7pUoauNubkM6yaBTIdra-)\n",
        "<font size=1>Figure XX. The image above shows a visualization result of MAGPHYS+photo-z. This is the output of the galaxy with ID 225. The upper panel shows the SED fitting curve (black curve), the observed data (red square) and the predicted unattenuated SED (blue curve). The black open circle on the SED fitting curve is the corresbonding model photometry of the red square and their goodness of fit is presented by $\\chi^2$ in the upper right corner. The lower panel shows the likelihood distribution of 10 basic physical parameters: $z_{phot}$, stellar mass ($log[M_*/M_{\\bigodot}]$), $log[SFR/(M_{\\bigodot}yr^{-1})]$, dust luminosity ($log[L_{dust}/L_{\\bigodot}]$), dust mass ($log[M_{dust}/M_{\\bigodot}]$), mass-weighted stellar age ($log[Age_m/yr]$), V-band dust attenuation ($A_V/mag$), 2175$\\overset{\\circ}{A}$ bump strength ($E_b'$), the fraction of $\\hat{\\tau}_V$ seen by stars older than $t_{BC}$ ($\\mu$) and the effective dust temperature ($T_{dust}/K$) (Battisti et al., 2019).   \n",
        "<font size=3>   \n",
        "<br> \n",
        "\n",
        "\n",
        "\n"
      ]
    },
    {
      "cell_type": "markdown",
      "metadata": {
        "id": "MXuMLb6D3BZg"
      },
      "source": [
        "### 2.3 Maths   \n",
        "<font size=3>    \n",
        "<br> Some previous studies have shown the expression of MS. This article will introduce two different models for comparison to select a more suitable MS equation and test the scatter of SFR. "
      ]
    },
    {
      "cell_type": "markdown",
      "metadata": {
        "id": "lEZdixtB3DN_"
      },
      "source": [
        "#### 2.3.1 Speagle's relationship.      \n",
        "<font size=3>    \n",
        "<br> The paper of Speagle et al. demonstrates that the linear relationship between $Log(<SFR>)$ and $Log(M_*)$ and the width of the dispersion is $0.2dex$ (Speagle, Steinhardt, Capak and Silverman, 2014). The Speagle's mathematical relation:  \n",
        "$$log\\psi(M_*,t) = (0.80\\pm0.02-0.022\\pm0.003\\times t)logM_*-(6.09\\pm0.23-0.07\\pm0.03\\times t),$$  where $\\psi$ is the star formation rate (SFR), $M_*$ is the stellar mass, and $t$ is the age of the universe in the unit of $Gyr$ (Speagle, Steinhardt, Capak and Silverman, 2014).  \n",
        "\n",
        "![](https://drive.google.com/uc?export=view&id=1W9Rm4z1unbrj-Tk9WYKjDaIQPfvJXSr1)"
      ]
    },
    {
      "cell_type": "markdown",
      "metadata": {
        "id": "MZB8Ts1T3GFP"
      },
      "source": [
        "#### 2.3.2 Leslie's relationship.   \n",
        "<font size=3>       \n",
        "<br> The research of Leslie et al. has brought us a new expression of MS. They believe that there is a nonlinear relationship between $SFR$ and $M_*$. Leslie's main sequence relationship:  \n",
        "$$log(<SFR>) = S_0-a_1t-log(1+\\frac{10^{M_t'}}{10^M}),$$  \n",
        "$$M_t' = M_0+a_2t.$$  \n",
        "\n",
        "Sample | $S_0$ | $M_0$ | $a_1$ | $a_2$   \n",
        "--- | --- | --- | --- | ---   \n",
        "**SF** | $2.97_{-0.09}^{+0.08}$ | $11.06_{-0.16}^{+0.15}$ | $0.22_{-0.01}^{+0.01}$ | $0.12_{-0.02}^{+0.03}$ \n",
        "**All** | $2.80_{-0.09}^{+0.08}$ | $10.8_{-0.17}^{+0.18}$ | $0.23_{-0.01}^{+0.01}$ | $0.13_{-0.02}^{+0.03}$   \n",
        "\n",
        "Here, we use the \"All\" parameters. $M$ is $log(M^*/M_{\\bigodot})$ and $t$ is the age in $Gyr$ (Leslie et al. 2020).  \n",
        "\n",
        "![](https://drive.google.com/uc?export=view&id=1wbiYHLH0-lS3xXG2jVnkDwZpUl3wtlW8)\n",
        "\n",
        "When we try to display these two relations on the same graph, we see some differences between them.  \n",
        "\n",
        "![](https://drive.google.com/uc?export=view&id=1UItRa-I_qFJJw9btI5mMh9rvwCcPf3uT)\n",
        "\n",
        "Although they show higher consistency in higher redshift regions, Leslie's research shows that SFR will be significantly different from the position in Speagle's relationship as the cosmology distance decreases. Additionally, in Leslie's relationship, the growth rate of SFR along $M_*$ will gradually slow down. \n"
      ]
    },
    {
      "cell_type": "markdown",
      "metadata": {
        "id": "YFPCHklTBjzs"
      },
      "source": [
        "#### 2.3.3 $\\chi^2$ Analysis and Curvefitting (Gaussian)     \n",
        "<font size=3>    \n",
        "<br> The results of MAGPHYS+photo-z include the $\\chi^2$ value of the fitting results for each galaxy sample. The $\\chi^2$ value indicates the goodness of fit between the observed values and the theoretical values. Some data have been observed to have higher $\\chi^2$ values. The higher $\\chi^2$ values indicate that these corresponding fitting SED have greater deviations from the actual spectral luminosity, so these data need to be eliminated.  \n",
        "Some histograms of data showed asymmetric Gaussian distribution. For example, the $\\chi^2$ histogram is a Gauss-like distribution with a \"tail\" on the right. It is necessary to introduce curve_fit package of scipy.optimize library in python to fit a Gaussian curve to the Gaussian-like distribution on the left. \n",
        "\n",
        "![](https://drive.google.com/uc?export=view&id=190VLjBK5ewwbYpxLXnXigAjYP1sWSlw5)\n",
        "<font size=1>\n",
        "Figure XX. The best Gaussian fitting results of the diagram above is peak $\\mu = 0.75$ and standard deviation $\\sigma = 0.12$. According to the statistical theory of Gaussian distribution, the probability of the value distribution in $\\mu\\pm3\\sigma$ is about $99.74\\%$.   \n",
        "<font size=3>\n",
        "<br> \n"
      ]
    },
    {
      "cell_type": "markdown",
      "metadata": {
        "id": "BzC_M1LUsbn3"
      },
      "source": [
        "## 3. Results (Still working on it)\r\n",
        "<font size=3>    \r\n",
        "<br> In this section, we analyze the output data of MAGPHYS+photo-z and present the results. At the beginning, we only focused on the case where $z_{phot}=1$, that is, the range of $z_{phot}$ is limited to $0.8-1.2$. "
      ]
    },
    {
      "cell_type": "markdown",
      "metadata": {
        "id": "FJ3MSyb3s6AS"
      },
      "source": [
        "## Reference list  \r\n",
        "<font size=3>    \r\n",
        "<br> 1. Caplar, N. and Tacchella, S., 2019. Stochastic modelling of star-formation histories I: the scatter of the star-forming main sequence. *Monthly Notices of the Royal Astronomical Society*, 487(3), pp.3845-3869.  \r\n",
        "<br> 2. Weaver et al. 2020  \r\n",
        "<br> 3. Jin, S., Daddi, E., Liu, D., Smolčić, V., Schinnerer, E., Calabrò, A., Gu, Q., Delhaize, J., Delvecchio, I., Gao, Y., Salvato, M., Puglisi, A., Dickinson, M., Bertoldi, F., Sargent, M., Novak, M., Magdis, G., Aretxaga, I., Wilson, G. and Capak, P., 2018. “Super-deblended” Dust Emission in Galaxies. II. Far-IR to (Sub)millimeter Photometry and High-redshift Galaxy Candidates in the Full COSMOS Field. The Astrophysical Journal, 864(1), p.56.   \r\n",
        "<br> 4. da Cunha, E., Charlot, S. and Elbaz, D., 2008. A simple model to interpret the ultraviolet, optical and infrared emission from galaxies. Monthly Notices of the Royal Astronomical Society, 388(4), pp.1595-1617.   \r\n",
        "<br> 5. Battisti, A., da Cunha, E., Grasha, K., Salvato, M., Daddi, E., Davies, L., Jin, S., Liu, D., Schinnerer, E. and Vaccari, M., 2019. MAGPHYS+photo-z: Constraining the Physical Properties of Galaxies with Unknown Redshifts. The Astrophysical Journal, 882(1), p.61.   \r\n",
        "<br> 6. Speagle, J., Steinhardt, C., Capak, P. and Silverman, J., 2014. A HIGHLY CONSISTENT FRAMEWORK FOR THE EVOLUTION OF THE STAR-FORMING “MAIN SEQUENCE” FROM z ∼ 0-6. The Astrophysical Journal, 214, p.15.  \r\n",
        "<br> 7. Leslie, S., Schinnerer, E., Liu, D., Magnelli, B., Algera, H., Karim, A., Davidzon, I., Gozaliasl, G., Jiménez-Andrade, E., Lang, P., Sargent, M., Novak, M., Groves, B., Smolčić, V., Zamorani, G., Vaccari, M., Battisti, A., Vardoulaki, E., Peng, Y. and Kartaltepe, J., 2020. The VLA-COSMOS 3 GHz Large Project: Evolution of Specific Star Formation Rates out to z ∼ 5. The Astrophysical Journal, 899(1), p.58.  \r\n",
        "<br> \r\n"
      ]
    }
  ]
}